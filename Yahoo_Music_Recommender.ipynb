{
 "cells": [
  {
   "cell_type": "markdown",
   "metadata": {},
   "source": [
    "# Recommender System\n",
    "\n",
    "[Yahoo! Music User Ratings of Musical Artists, version 1.0 (423 MB)](http://webscope.sandbox.yahoo.com/catalog.php?datatype=r&did=1)\n",
    "    This dataset represents a snapshot of the Yahoo! Music community's preferences for various musical artists. The dataset contains over ten million ratings of musical artists given by Yahoo! Music users over the course of a one month period sometime prior to March 2004. Users are represented as meaningless anonymous numbers so that no identifying information is revealed. The dataset may be used by researchers to validate recommender systems or collaborative filtering algorithms. The dataset may serve as a testbed for matrix and graph algorithms including PCA and clustering algorithms. The size of this dataset is 423 MB.\n",
    "\n",
    "From the readme.txt:\n",
    "```\n",
    "This dataset consists of two files:\n",
    "1. ydata-ymusic-user-artist-ratings-v1_0.txt\n",
    "2. ydata-ymusic-artist-names-v1_0.txt\n",
    "\n",
    "The content of the two files are as follows:\n",
    "\n",
    "=====================================================================\n",
    "\n",
    "(1) \"ydata-ymusic-user-artist-ratings-v1_0.txt\" contains user ratings\n",
    "    of music artists. It contains 11,557,943 ratings of 98,211 artists\n",
    "    by 1,948,882 anonymous users. The format of each line of the file\n",
    "    is: anonymous_user_id (TAB) artist_id (TAB) rating. The ratings\n",
    "    are integers ranging from 0 to 100, except 255 (a special case\n",
    "    that means \"never play again\").\n",
    "\n",
    "Snippet:\n",
    "1       1000125 90\n",
    "1       1006373 100\n",
    "1       1006978 90\n",
    "1       1007035 100\n",
    "1       1007098 100\n",
    "\n",
    "====================================================================\n",
    "\n",
    "(2) \"ydata-ymusic-artist-names-v1_0.txt\" contains the artist_id and\n",
    "    name of each musical artist.\n",
    "\n",
    "Snippet:\n",
    "-100    Not Applicable\n",
    "-99     Unknown Artist\n",
    "1000001 Bobby \"O\"\n",
    "1000002 Jimmy \"Z\"\n",
    "1000003 '68 Comeback\n",
    "```\n",
    "\n"
   ]
  },
  {
   "cell_type": "code",
   "execution_count": 1,
   "metadata": {
    "collapsed": false
   },
   "outputs": [
    {
     "name": "stderr",
     "output_type": "stream",
     "text": [
      "/usr/local/lib/python2.7/dist-packages/matplotlib/__init__.py:872: UserWarning: axes.color_cycle is deprecated and replaced with axes.prop_cycle; please use the latter.\n",
      "  warnings.warn(self.msg_depr % (key, alt_key))\n"
     ]
    }
   ],
   "source": [
    "import re\n",
    "import timeit\n",
    "import numpy as np\n",
    "import pandas as pd\n",
    "import seaborn as sns\n",
    "import matplotlib.pylab as plt\n",
    "from collections import defaultdict\n",
    "\n",
    "plt.style.use('ggplot')\n",
    "%matplotlib inline\n",
    "pd.options.display.max_columns=25"
   ]
  },
  {
   "cell_type": "code",
   "execution_count": 7,
   "metadata": {
    "collapsed": false
   },
   "outputs": [
    {
     "data": {
      "text/plain": [
       "[(1, 1000125, 90),\n",
       " (1, 1006373, 100),\n",
       " (1, 1006978, 90),\n",
       " (1, 1007035, 100),\n",
       " (1, 1007098, 100),\n",
       " (1, 1007723, 100),\n",
       " (1, 1008659, 100),\n",
       " (1, 1008916, 100),\n",
       " (1, 1012809, 70),\n",
       " (1, 1014635, 100),\n",
       " (1, 1016419, 100),\n",
       " (1, 1016470, 100),\n",
       " (1, 1016522, 100),\n",
       " (1, 1016885, 100),\n",
       " (1, 1017874, 100),\n",
       " (1, 1017881, 100),\n",
       " (1, 1019512, 100),\n",
       " (1, 1019522, 100),\n",
       " (1, 1020524, 100),\n",
       " (1, 1020560, 100),\n",
       " (1, 1020778, 100),\n",
       " (1, 1021623, 100),\n",
       " (1, 1024006, 100),\n",
       " (1, 1024015, 100),\n",
       " (1, 1024496, 100),\n",
       " (1, 1024635, 100),\n",
       " (1, 1024759, 100),\n",
       " (1, 1029612, 100),\n",
       " (1, 1033451, 100),\n",
       " (1, 1034801, 100),\n",
       " (1, 1036157, 90),\n",
       " (1, 1037847, 100),\n",
       " (1, 1041557, 90),\n",
       " (1, 1042768, 100),\n",
       " (1, 1043712, 100),\n",
       " (1, 1045024, 100),\n",
       " (1, 1045525, 100),\n",
       " (1, 1047584, 100),\n",
       " (1, 1053507, 90),\n",
       " (1, 1098798, 90),\n",
       " (2, 1004623, 0),\n",
       " (2, 1018143, 0),\n",
       " (2, 1040071, 90),\n",
       " (2, 1053438, 90),\n",
       " (2, 1098087, 90),\n",
       " (2, 1098636, 90)]"
      ]
     },
     "execution_count": 7,
     "metadata": {},
     "output_type": "execute_result"
    }
   ],
   "source": [
    "import psycopg2\n",
    "conn = psycopg2.connect(\"dbname=ymusic_data user=btq\")\n",
    "# Open a cursor to perform database operations\n",
    "cur = conn.cursor()\n",
    "# Query the database and obtain data as Python objects\n",
    "cur.execute(\"SELECT * FROM ym_ratings WHERE uid < 3;\")\n",
    "cur.fetchall()"
   ]
  },
  {
   "cell_type": "code",
   "execution_count": 2,
   "metadata": {
    "collapsed": false
   },
   "outputs": [
    {
     "name": "stdout",
     "output_type": "stream",
     "text": [
      "0.241866111755\n",
      "defaultdict(<type 'int'>, {'1008916': 100, '1042768': 100, '1016885': 100, '1024496': 100, '1036157': 90, '1033451': 100, '1007035': 100, '1041557': 90, '1045525': 100, '1098798': 90, '1017874': 100, '1020778': 100, '1007723': 100, '1007098': 100, '1020524': 100, '1000125': 90, '1047584': 100, '1006978': 90, '1020560': 100, '1016419': 100, '1019522': 100, '1024006': 100, '1016470': 100, '1006373': 100, '1024759': 100, '1017881': 100, '1043712': 100, '1008659': 100, '1037847': 100, '1029612': 100, '1024635': 100, '1034801': 100, '1045024': 100, '1021623': 100, '1012809': 70, '1014635': 100, '1016522': 100, '1053507': 90, '1024015': 100, '1019512': 100})\n"
     ]
    }
   ],
   "source": [
    "d = defaultdict(lambda: defaultdict(int))\n",
    "tic = timeit.default_timer()\n",
    "with open('data/ydata-ymusic-user-artist-ratings-v1_0_2002.txt') as infile:\n",
    "    for line in infile:\n",
    "        #print line\n",
    "        vals = re.split('\\t',line)\n",
    "        #print vals\n",
    "        d[vals[0]][vals[1]]= int(vals[2].strip())\n",
    "toc=timeit.default_timer()\n",
    "print toc - tic\n",
    "print d['1']         "
   ]
  }
 ],
 "metadata": {
  "kernelspec": {
   "display_name": "Python 2",
   "language": "python",
   "name": "python2"
  },
  "language_info": {
   "codemirror_mode": {
    "name": "ipython",
    "version": 2
   },
   "file_extension": ".py",
   "mimetype": "text/x-python",
   "name": "python",
   "nbconvert_exporter": "python",
   "pygments_lexer": "ipython2",
   "version": "2.7.6"
  }
 },
 "nbformat": 4,
 "nbformat_minor": 0
}
